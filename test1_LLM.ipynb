{
 "cells": [
  {
   "cell_type": "code",
   "execution_count": 6,
   "id": "e0a3dc32",
   "metadata": {},
   "outputs": [
    {
     "name": "stdout",
     "output_type": "stream",
     "text": [
      "Loaded parameters: {'length': '12.000 m', 'radius': '1.660 m', 'thickness': '5.000 m', 'area': '8.6570 m²', 'volume': '103.8837 m³'}\n",
      "Generated file: filled_pillar.docx\n"
     ]
    }
   ],
   "source": [
    "import re\n",
    "import pandas as pd\n",
    "from docxtpl import DocxTemplate\n",
    "\n",
    "# Utility to parse a dimension string (e.g. '12m', '12 cm', '5mm') and convert to meters\n",
    "def parse_to_meters(s: str) -> float:\n",
    "    s = s.strip().lower().replace(' ', '')\n",
    "    match = re.match(r\"([0-9]*\\.?[0-9]+)(m|cm|mm)\", s)\n",
    "    if not match:\n",
    "        raise ValueError(f\"Can't parse dimension: {s}\")\n",
    "    value, unit = match.groups()\n",
    "    val = float(value)\n",
    "    if unit == 'm':\n",
    "        return val\n",
    "    elif unit == 'cm':\n",
    "        return val / 100\n",
    "    elif unit == 'mm':\n",
    "        return val / 1000\n",
    "    else:\n",
    "        raise ValueError(f\"Unknown unit: {unit}\")\n",
    "\n",
    "# Load your CSV into a DataFrame\n",
    "# The CSV should have headers: Column height, Column radius, Column thickness\n",
    "\n",
    "def load_parameters(csv_path: str) -> dict:\n",
    "    df = pd.read_csv(csv_path)\n",
    "    # assume first row contains your data\n",
    "    row = df.iloc[0]\n",
    "    height_m = parse_to_meters(row['Column height'])\n",
    "    radius_m = parse_to_meters(row['Column radius'])\n",
    "    thickness_m = parse_to_meters(row['Column thickness'])\n",
    "    # compute area and volume\n",
    "    area_m2 = 3.141592653589793 * radius_m**2\n",
    "    volume_m3 = area_m2 * height_m\n",
    "    return {\n",
    "        'length': f\"{height_m:.3f} m\",\n",
    "        'radius': f\"{radius_m:.3f} m\",\n",
    "        'thickness': f\"{thickness_m:.3f} m\",\n",
    "        'area': f\"{area_m2:.4f} m²\",\n",
    "        'volume': f\"{volume_m3:.4f} m³\"\n",
    "    }\n",
    "\n",
    "# Fill the Word template using docxtpl\n",
    "# The template docx should use Jinja2 placeholders like {{ length }}, {{ radius }}, etc.\n",
    "\n",
    "def fill_template(template_path: str, output_path: str, context: dict):\n",
    "    tpl = DocxTemplate(template_path)\n",
    "    tpl.render(context)\n",
    "    tpl.save(output_path)\n",
    "\n",
    "if __name__ == '__main__':\n",
    "    # paths can be adjusted\n",
    "    csv_file = 'input_test_sheet.csv'\n",
    "    template_file = 'template.docx'\n",
    "    output_file = 'filled_pillar.docx'\n",
    "\n",
    "    params = load_parameters(csv_file)\n",
    "    print(\"Loaded parameters:\", params)\n",
    "\n",
    "    fill_template(template_file, output_file, params)\n",
    "    print(f\"Generated file: {output_file}\")\n"
   ]
  }
 ],
 "metadata": {
  "kernelspec": {
   "display_name": "scheduler_env",
   "language": "python",
   "name": "python3"
  },
  "language_info": {
   "codemirror_mode": {
    "name": "ipython",
    "version": 3
   },
   "file_extension": ".py",
   "mimetype": "text/x-python",
   "name": "python",
   "nbconvert_exporter": "python",
   "pygments_lexer": "ipython3",
   "version": "3.12.7"
  }
 },
 "nbformat": 4,
 "nbformat_minor": 5
}
